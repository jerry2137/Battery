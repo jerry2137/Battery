{
 "cells": [
  {
   "cell_type": "code",
   "execution_count": 37,
   "metadata": {},
   "outputs": [],
   "source": [
    "import os\n",
    "import pandas as pd\n",
    "folder = r\"D:\\test_development\\Battery\\data\\LG_HG2_Original_Dataset_McMasterUniversity_Jan_2020\\10degC/\""
   ]
  },
  {
   "cell_type": "code",
   "execution_count": 38,
   "metadata": {},
   "outputs": [
    {
     "name": "stderr",
     "output_type": "stream",
     "text": [
      "c:\\Users\\user\\anaconda3\\envs\\sfdd\\lib\\site-packages\\IPython\\core\\interactiveshell.py:3258: DtypeWarning: Columns (8,9,10,11,12) have mixed types.Specify dtype option on import or set low_memory=False.\n",
      "  interactivity=interactivity, compiler=compiler, result=result)\n"
     ]
    }
   ],
   "source": [
    "df = pd.DataFrame()\n",
    "\n",
    "for filename in os.listdir(folder):\n",
    "    file_df = pd.read_csv(folder + filename, usecols=['Time Stamp', 'Voltage', 'Current', 'Temperature', 'Capacity', 'WhAccu'], skiprows=28)\n",
    "    df = pd.concat([df, file_df[1:]], axis=0, ignore_index=True)"
   ]
  },
  {
   "cell_type": "code",
   "execution_count": 39,
   "metadata": {},
   "outputs": [],
   "source": [
    "df[['Voltage', 'Current', 'Temperature', 'Capacity', 'WhAccu']] = df[['Voltage', 'Current', 'Temperature', 'Capacity', 'WhAccu']].astype(float).round(5)"
   ]
  },
  {
   "cell_type": "code",
   "execution_count": 40,
   "metadata": {},
   "outputs": [
    {
     "data": {
      "text/html": [
       "<div>\n",
       "<style scoped>\n",
       "    .dataframe tbody tr th:only-of-type {\n",
       "        vertical-align: middle;\n",
       "    }\n",
       "\n",
       "    .dataframe tbody tr th {\n",
       "        vertical-align: top;\n",
       "    }\n",
       "\n",
       "    .dataframe thead th {\n",
       "        text-align: right;\n",
       "    }\n",
       "</style>\n",
       "<table border=\"1\" class=\"dataframe\">\n",
       "  <thead>\n",
       "    <tr style=\"text-align: right;\">\n",
       "      <th></th>\n",
       "      <th>Time Stamp</th>\n",
       "      <th>Voltage</th>\n",
       "      <th>Current</th>\n",
       "      <th>Temperature</th>\n",
       "      <th>Capacity</th>\n",
       "      <th>WhAccu</th>\n",
       "    </tr>\n",
       "  </thead>\n",
       "  <tbody>\n",
       "    <tr>\n",
       "      <th>0</th>\n",
       "      <td>11/13/2018 7:44:14 PM</td>\n",
       "      <td>3.24099</td>\n",
       "      <td>0.0</td>\n",
       "      <td>10.72617</td>\n",
       "      <td>0.00000</td>\n",
       "      <td>0.00000</td>\n",
       "    </tr>\n",
       "    <tr>\n",
       "      <th>1</th>\n",
       "      <td>11/13/2018 7:45:14 PM</td>\n",
       "      <td>3.24166</td>\n",
       "      <td>0.0</td>\n",
       "      <td>13.77577</td>\n",
       "      <td>0.00000</td>\n",
       "      <td>0.00000</td>\n",
       "    </tr>\n",
       "    <tr>\n",
       "      <th>2</th>\n",
       "      <td>11/13/2018 7:46:14 PM</td>\n",
       "      <td>3.24200</td>\n",
       "      <td>0.0</td>\n",
       "      <td>17.14084</td>\n",
       "      <td>0.00000</td>\n",
       "      <td>0.00000</td>\n",
       "    </tr>\n",
       "    <tr>\n",
       "      <th>3</th>\n",
       "      <td>11/13/2018 7:47:14 PM</td>\n",
       "      <td>3.24234</td>\n",
       "      <td>0.0</td>\n",
       "      <td>20.29560</td>\n",
       "      <td>0.00000</td>\n",
       "      <td>0.00000</td>\n",
       "    </tr>\n",
       "    <tr>\n",
       "      <th>4</th>\n",
       "      <td>11/13/2018 7:48:14 PM</td>\n",
       "      <td>3.24268</td>\n",
       "      <td>0.0</td>\n",
       "      <td>21.87297</td>\n",
       "      <td>0.00000</td>\n",
       "      <td>0.00000</td>\n",
       "    </tr>\n",
       "    <tr>\n",
       "      <th>...</th>\n",
       "      <td>...</td>\n",
       "      <td>...</td>\n",
       "      <td>...</td>\n",
       "      <td>...</td>\n",
       "      <td>...</td>\n",
       "      <td>...</td>\n",
       "    </tr>\n",
       "    <tr>\n",
       "      <th>925528</th>\n",
       "      <td>11/26/2018 12:40:49 PM</td>\n",
       "      <td>3.27757</td>\n",
       "      <td>0.0</td>\n",
       "      <td>9.46427</td>\n",
       "      <td>-2.41503</td>\n",
       "      <td>-8.46247</td>\n",
       "    </tr>\n",
       "    <tr>\n",
       "      <th>925529</th>\n",
       "      <td>11/26/2018 12:40:49 PM</td>\n",
       "      <td>3.27757</td>\n",
       "      <td>0.0</td>\n",
       "      <td>9.46427</td>\n",
       "      <td>-2.41503</td>\n",
       "      <td>-8.46247</td>\n",
       "    </tr>\n",
       "    <tr>\n",
       "      <th>925530</th>\n",
       "      <td>11/26/2018 12:40:49 PM</td>\n",
       "      <td>3.27757</td>\n",
       "      <td>0.0</td>\n",
       "      <td>9.46427</td>\n",
       "      <td>-2.41503</td>\n",
       "      <td>-8.46247</td>\n",
       "    </tr>\n",
       "    <tr>\n",
       "      <th>925531</th>\n",
       "      <td>11/26/2018 12:40:49 PM</td>\n",
       "      <td>3.27757</td>\n",
       "      <td>0.0</td>\n",
       "      <td>9.46427</td>\n",
       "      <td>-2.41503</td>\n",
       "      <td>-8.46247</td>\n",
       "    </tr>\n",
       "    <tr>\n",
       "      <th>925532</th>\n",
       "      <td>11/26/2018 12:40:49 PM</td>\n",
       "      <td>3.27757</td>\n",
       "      <td>0.0</td>\n",
       "      <td>9.46427</td>\n",
       "      <td>-2.41503</td>\n",
       "      <td>-8.46247</td>\n",
       "    </tr>\n",
       "  </tbody>\n",
       "</table>\n",
       "<p>925533 rows × 6 columns</p>\n",
       "</div>"
      ],
      "text/plain": [
       "                    Time Stamp  Voltage  Current  Temperature  Capacity  \\\n",
       "0        11/13/2018 7:44:14 PM  3.24099      0.0     10.72617   0.00000   \n",
       "1        11/13/2018 7:45:14 PM  3.24166      0.0     13.77577   0.00000   \n",
       "2        11/13/2018 7:46:14 PM  3.24200      0.0     17.14084   0.00000   \n",
       "3        11/13/2018 7:47:14 PM  3.24234      0.0     20.29560   0.00000   \n",
       "4        11/13/2018 7:48:14 PM  3.24268      0.0     21.87297   0.00000   \n",
       "...                        ...      ...      ...          ...       ...   \n",
       "925528  11/26/2018 12:40:49 PM  3.27757      0.0      9.46427  -2.41503   \n",
       "925529  11/26/2018 12:40:49 PM  3.27757      0.0      9.46427  -2.41503   \n",
       "925530  11/26/2018 12:40:49 PM  3.27757      0.0      9.46427  -2.41503   \n",
       "925531  11/26/2018 12:40:49 PM  3.27757      0.0      9.46427  -2.41503   \n",
       "925532  11/26/2018 12:40:49 PM  3.27757      0.0      9.46427  -2.41503   \n",
       "\n",
       "         WhAccu  \n",
       "0       0.00000  \n",
       "1       0.00000  \n",
       "2       0.00000  \n",
       "3       0.00000  \n",
       "4       0.00000  \n",
       "...         ...  \n",
       "925528 -8.46247  \n",
       "925529 -8.46247  \n",
       "925530 -8.46247  \n",
       "925531 -8.46247  \n",
       "925532 -8.46247  \n",
       "\n",
       "[925533 rows x 6 columns]"
      ]
     },
     "execution_count": 40,
     "metadata": {},
     "output_type": "execute_result"
    }
   ],
   "source": [
    "df"
   ]
  },
  {
   "cell_type": "code",
   "execution_count": 41,
   "metadata": {},
   "outputs": [],
   "source": [
    "df.to_csv(folder + 'all.csv', index=None)"
   ]
  }
 ],
 "metadata": {
  "kernelspec": {
   "display_name": "Python 3.7.9 ('sfdd')",
   "language": "python",
   "name": "python3"
  },
  "language_info": {
   "codemirror_mode": {
    "name": "ipython",
    "version": 3
   },
   "file_extension": ".py",
   "mimetype": "text/x-python",
   "name": "python",
   "nbconvert_exporter": "python",
   "pygments_lexer": "ipython3",
   "version": "3.7.9"
  },
  "orig_nbformat": 4,
  "vscode": {
   "interpreter": {
    "hash": "ac9485ed0f99169e90b04649df4f467b926474db2d44529ef36e108ade6f7f73"
   }
  }
 },
 "nbformat": 4,
 "nbformat_minor": 2
}
